{
  "nbformat": 4,
  "nbformat_minor": 0,
  "metadata": {
    "colab": {
      "name": "Untitled0.ipynb",
      "provenance": [],
      "collapsed_sections": [],
      "authorship_tag": "ABX9TyMrABtRsj7NWWxphIGRBQuy",
      "include_colab_link": true
    },
    "kernelspec": {
      "name": "python3",
      "display_name": "Python 3"
    }
  },
  "cells": [
    {
      "cell_type": "markdown",
      "metadata": {
        "id": "view-in-github",
        "colab_type": "text"
      },
      "source": [
        "<a href=\"https://colab.research.google.com/github/Zemke/ai-notebooks/blob/master/fashion-mnist.ipynb\" target=\"_parent\"><img src=\"https://colab.research.google.com/assets/colab-badge.svg\" alt=\"Open In Colab\"/></a>"
      ]
    },
    {
      "cell_type": "code",
      "metadata": {
        "colab": {
          "base_uri": "https://localhost:8080/"
        },
        "id": "HVb0HO0mKdST",
        "outputId": "3f46db54-2f43-4900-b614-b042ab40c99a"
      },
      "source": [
        "import tensorflow as tf\n",
        "import numpy as np\n",
        "import matplotlib.pyplot as plt\n"
      ],
      "execution_count": 1,
      "outputs": [
        {
          "output_type": "stream",
          "text": [
            "2.3.0\n"
          ],
          "name": "stdout"
        }
      ]
    },
    {
      "cell_type": "code",
      "metadata": {
        "colab": {
          "base_uri": "https://localhost:8080/"
        },
        "id": "TXkSbEDAKpFK",
        "outputId": "a0e55d36-f4fc-479e-c644-40da4114087e"
      },
      "source": [
        "fashion_mnist = tf.keras.datasets.fashion_mnist\n",
        "\n",
        "(train_images, train_labels), (test_images, test_labels) = fashion_mnist.load_data()\n"
      ],
      "execution_count": 2,
      "outputs": [
        {
          "output_type": "stream",
          "text": [
            "Downloading data from https://storage.googleapis.com/tensorflow/tf-keras-datasets/train-labels-idx1-ubyte.gz\n",
            "32768/29515 [=================================] - 0s 0us/step\n",
            "Downloading data from https://storage.googleapis.com/tensorflow/tf-keras-datasets/train-images-idx3-ubyte.gz\n",
            "26427392/26421880 [==============================] - 0s 0us/step\n",
            "Downloading data from https://storage.googleapis.com/tensorflow/tf-keras-datasets/t10k-labels-idx1-ubyte.gz\n",
            "8192/5148 [===============================================] - 0s 0us/step\n",
            "Downloading data from https://storage.googleapis.com/tensorflow/tf-keras-datasets/t10k-images-idx3-ubyte.gz\n",
            "4423680/4422102 [==============================] - 0s 0us/step\n"
          ],
          "name": "stdout"
        }
      ]
    },
    {
      "cell_type": "markdown",
      "metadata": {
        "id": "m5mRYYotMBX5"
      },
      "source": [
        "Flatten layer turns the 28 by 28 matrix into a vector. \\\n",
        "28 by 28 because the images are 28 by 28 pixels. \\\n",
        "Dense layer of 128 neurons because reasons. \\\n",
        "ReLu because that's [apparently what's typically done](https://deepai.org/machine-learning-glossary-and-terms/relu). \\\n"
      ]
    },
    {
      "cell_type": "code",
      "metadata": {
        "id": "zfwrlg_EKrEd"
      },
      "source": [
        "model = tf.keras.Sequential([\n",
        "    tf.keras.layers.Flatten(input_shape=(28, 28)),\n",
        "    tf.keras.layers.Dense(128, activation='relu'),\n",
        "    tf.keras.layers.Dense(10)\n",
        "])\n"
      ],
      "execution_count": 8,
      "outputs": []
    },
    {
      "cell_type": "markdown",
      "metadata": {
        "id": "4GLBc5_qNJiI"
      },
      "source": [
        "`SparseCategoricalCrossentropy` because  [Use this crossentropy loss function when there are two or more label classes. We expect labels to be provided as integers.](https://www.tensorflow.org/api_docs/python/tf/keras/losses/SparseCategoricalCrossentropy) \\\n",
        "Adam is just your typical gradient descent algorithm.\n"
      ]
    },
    {
      "cell_type": "code",
      "metadata": {
        "id": "OchHSuvMLplc"
      },
      "source": [
        "model.compile(optimizer='adam',\n",
        "              loss=tf.keras.losses.SparseCategoricalCrossentropy(from_logits=True),\n",
        "              metrics=['accuracy'])\n"
      ],
      "execution_count": 12,
      "outputs": []
    },
    {
      "cell_type": "code",
      "metadata": {
        "colab": {
          "base_uri": "https://localhost:8080/"
        },
        "id": "AXIFN6ZOQMHF",
        "outputId": "4a25bf59-dc14-476a-ec52-ad1e380bf1ce"
      },
      "source": [
        "model.fit(train_images, train_labels, epochs=10)\n"
      ],
      "execution_count": 13,
      "outputs": [
        {
          "output_type": "stream",
          "text": [
            "Epoch 1/10\n",
            "1875/1875 [==============================] - 3s 2ms/step - loss: 0.5710 - accuracy: 0.7664\n",
            "Epoch 2/10\n",
            "1875/1875 [==============================] - 3s 2ms/step - loss: 0.5517 - accuracy: 0.7680\n",
            "Epoch 3/10\n",
            "1875/1875 [==============================] - 3s 2ms/step - loss: 0.5557 - accuracy: 0.7689\n",
            "Epoch 4/10\n",
            "1875/1875 [==============================] - 3s 2ms/step - loss: 0.5646 - accuracy: 0.7682\n",
            "Epoch 5/10\n",
            "1875/1875 [==============================] - 3s 2ms/step - loss: 0.5519 - accuracy: 0.7689\n",
            "Epoch 6/10\n",
            "1875/1875 [==============================] - 3s 2ms/step - loss: 0.5549 - accuracy: 0.7699\n",
            "Epoch 7/10\n",
            "1875/1875 [==============================] - 3s 2ms/step - loss: 0.5543 - accuracy: 0.7707\n",
            "Epoch 8/10\n",
            "1875/1875 [==============================] - 3s 2ms/step - loss: 0.5439 - accuracy: 0.7759\n",
            "Epoch 9/10\n",
            "1875/1875 [==============================] - 3s 2ms/step - loss: 0.5428 - accuracy: 0.7786\n",
            "Epoch 10/10\n",
            "1875/1875 [==============================] - 3s 2ms/step - loss: 0.5398 - accuracy: 0.7800\n"
          ],
          "name": "stdout"
        },
        {
          "output_type": "execute_result",
          "data": {
            "text/plain": [
              "<tensorflow.python.keras.callbacks.History at 0x7f0913f266d8>"
            ]
          },
          "metadata": {
            "tags": []
          },
          "execution_count": 13
        }
      ]
    },
    {
      "cell_type": "code",
      "metadata": {
        "colab": {
          "base_uri": "https://localhost:8080/"
        },
        "id": "gUC61uDMQx8c",
        "outputId": "b5d49e0a-0576-4f64-9e97-728122be2c8b"
      },
      "source": [
        "test_loss, test_acc = model.evaluate(test_images,  test_labels, verbose=2)\n"
      ],
      "execution_count": 14,
      "outputs": [
        {
          "output_type": "stream",
          "text": [
            "313/313 - 0s - loss: 0.6620 - accuracy: 0.7580\n"
          ],
          "name": "stdout"
        }
      ]
    },
    {
      "cell_type": "markdown",
      "metadata": {
        "id": "sTIQ9xxTRJj7"
      },
      "source": [
        "An array of `logits` is returned by the output layer which is a number array of length ten. Each number in the array denoting the score of that label matching the image. \\\n",
        "Remember that the labels are integer representations of what each image is (shoe, skirt, etc). \\\n",
        "Softmax turns this into a better to read probability that the image matches are certain label. Put differently: NN’s confidence.\n"
      ]
    },
    {
      "cell_type": "code",
      "metadata": {
        "id": "eGm3moskRJrW"
      },
      "source": [
        "probability_model = tf.keras.Sequential([model, \n",
        "                                         tf.keras.layers.Softmax()])\n"
      ],
      "execution_count": 16,
      "outputs": []
    },
    {
      "cell_type": "code",
      "metadata": {
        "id": "e56h9LaOSSTr"
      },
      "source": [
        "# Predicting each image.\n",
        "predictions = probability_model.predict(test_images)"
      ],
      "execution_count": 17,
      "outputs": []
    },
    {
      "cell_type": "code",
      "metadata": {
        "colab": {
          "base_uri": "https://localhost:8080/"
        },
        "id": "53vxlJl1ScTr",
        "outputId": "7412086f-4a93-40c5-cc65-916f1b2c01d9"
      },
      "source": [
        "predictions[0]\n"
      ],
      "execution_count": 18,
      "outputs": [
        {
          "output_type": "execute_result",
          "data": {
            "text/plain": [
              "array([1.8016047e-26, 8.1043428e-20, 0.0000000e+00, 2.6669939e-16,\n",
              "       0.0000000e+00, 1.2371479e-02, 0.0000000e+00, 2.7057070e-02,\n",
              "       8.7834297e-13, 9.6057147e-01], dtype=float32)"
            ]
          },
          "metadata": {
            "tags": []
          },
          "execution_count": 18
        }
      ]
    },
    {
      "cell_type": "code",
      "metadata": {
        "colab": {
          "base_uri": "https://localhost:8080/"
        },
        "id": "oHB6_vmoShGZ",
        "outputId": "46e0f55d-911a-4601-cdd2-8dfbbc8aa2f2"
      },
      "source": [
        "np.argmax(predictions[0])  # Highest confidence for..."
      ],
      "execution_count": 19,
      "outputs": [
        {
          "output_type": "execute_result",
          "data": {
            "text/plain": [
              "9"
            ]
          },
          "metadata": {
            "tags": []
          },
          "execution_count": 19
        }
      ]
    },
    {
      "cell_type": "code",
      "metadata": {
        "colab": {
          "base_uri": "https://localhost:8080/"
        },
        "id": "iJ2kwENOSnbZ",
        "outputId": "885557c8-305a-482f-d383-e0767713c9ef"
      },
      "source": [
        "test_labels[0]  # Is it the same as above?\n"
      ],
      "execution_count": 20,
      "outputs": [
        {
          "output_type": "execute_result",
          "data": {
            "text/plain": [
              "9"
            ]
          },
          "metadata": {
            "tags": []
          },
          "execution_count": 20
        }
      ]
    },
    {
      "cell_type": "markdown",
      "metadata": {
        "id": "QOxfMcmuS9ED"
      },
      "source": [
        "https://www.tensorflow.org/tutorials/keras/classification#make_predictions\n",
        "\n"
      ]
    }
  ]
}